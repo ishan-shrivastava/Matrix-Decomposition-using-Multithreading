{
  "cells": [
    {
      "cell_type": "code",
      "execution_count": null,
      "metadata": {
        "id": "Txfk4pjULRFI",
        "outputId": "0cc6f5b6-332a-43da-a611-681bb865d725"
      },
      "outputs": [
        {
          "name": "stdout",
          "output_type": "stream",
          "text": [
            "Requirement already satisfied: matplotlib in /home/sanghmitr/notebook/jupyterenv/lib/python3.8/site-packages (3.5.1)\n",
            "Requirement already satisfied: cycler>=0.10 in /home/sanghmitr/notebook/jupyterenv/lib/python3.8/site-packages (from matplotlib) (0.11.0)\n",
            "Requirement already satisfied: packaging>=20.0 in /home/sanghmitr/notebook/jupyterenv/lib/python3.8/site-packages (from matplotlib) (21.3)\n",
            "Requirement already satisfied: python-dateutil>=2.7 in /home/sanghmitr/notebook/jupyterenv/lib/python3.8/site-packages (from matplotlib) (2.8.2)\n",
            "Requirement already satisfied: numpy>=1.17 in /home/sanghmitr/notebook/jupyterenv/lib/python3.8/site-packages (from matplotlib) (1.21.4)\n",
            "Requirement already satisfied: fonttools>=4.22.0 in /home/sanghmitr/notebook/jupyterenv/lib/python3.8/site-packages (from matplotlib) (4.28.5)\n",
            "Requirement already satisfied: kiwisolver>=1.0.1 in /home/sanghmitr/notebook/jupyterenv/lib/python3.8/site-packages (from matplotlib) (1.3.2)\n",
            "Requirement already satisfied: pillow>=6.2.0 in /home/sanghmitr/notebook/jupyterenv/lib/python3.8/site-packages (from matplotlib) (8.4.0)\n",
            "Requirement already satisfied: pyparsing>=2.2.1 in /home/sanghmitr/notebook/jupyterenv/lib/python3.8/site-packages (from matplotlib) (3.0.6)\n",
            "Requirement already satisfied: six>=1.5 in /home/sanghmitr/notebook/jupyterenv/lib/python3.8/site-packages (from python-dateutil>=2.7->matplotlib) (1.16.0)\n",
            "Note: you may need to restart the kernel to use updated packages.\n"
          ]
        }
      ],
      "source": [
        "pip install matplotlib"
      ]
    },
    {
      "cell_type": "code",
      "execution_count": null,
      "metadata": {
        "id": "2sun4hR1LRFN",
        "outputId": "7bece1a3-a79b-4e14-f294-9ff7428ea311"
      },
      "outputs": [
        {
          "name": "stdout",
          "output_type": "stream",
          "text": [
            "Requirement already satisfied: numpy in /home/sanghmitr/notebook/jupyterenv/lib/python3.8/site-packages (1.21.4)\n",
            "Note: you may need to restart the kernel to use updated packages.\n"
          ]
        }
      ],
      "source": [
        "pip install numpy"
      ]
    },
    {
      "cell_type": "code",
      "execution_count": null,
      "metadata": {
        "colab": {
          "base_uri": "https://localhost:8080/"
        },
        "id": "tbSAkILngl9H",
        "outputId": "83ebf54b-fe41-4c0a-bb6a-06ad66ee183a"
      },
      "outputs": [
        {
          "name": "stdout",
          "output_type": "stream",
          "text": [
            "Number of CPUs in the system: 8\n"
          ]
        }
      ],
      "source": [
        "import os\n",
        "cpuCount = os.cpu_count()\n",
        "\n",
        "# Print the number of CPUs in the system\n",
        "print(\"Number of CPUs in the system:\", cpuCount)"
      ]
    },
    {
      "cell_type": "code",
      "execution_count": null,
      "metadata": {
        "id": "Lp17QFCMLRFP",
        "outputId": "f1c51552-8163-4ab8-dade-8699a3265939"
      },
      "outputs": [
        {
          "name": "stdout",
          "output_type": "stream",
          "text": [
            "Architecture:                    x86_64\n",
            "CPU op-mode(s):                  32-bit, 64-bit\n",
            "Byte Order:                      Little Endian\n",
            "Address sizes:                   45 bits physical, 48 bits virtual\n",
            "CPU(s):                          8\n",
            "On-line CPU(s) list:             0-7\n",
            "Thread(s) per core:              1\n",
            "Core(s) per socket:              2\n",
            "Socket(s):                       4\n",
            "NUMA node(s):                    1\n",
            "Vendor ID:                       AuthenticAMD\n",
            "CPU family:                      23\n",
            "Model:                           24\n",
            "Model name:                      AMD Ryzen 5 3500U with Radeon Vega Mobile Gfx\n",
            "Stepping:                        1\n",
            "CPU MHz:                         2096.062\n",
            "BogoMIPS:                        4192.12\n",
            "Hypervisor vendor:               VMware\n",
            "Virtualization type:             full\n",
            "L1d cache:                       256 KiB\n",
            "L1i cache:                       512 KiB\n",
            "L2 cache:                        4 MiB\n",
            "L3 cache:                        4 MiB\n",
            "NUMA node0 CPU(s):               0-7\n",
            "Vulnerability Itlb multihit:     Not affected\n",
            "Vulnerability L1tf:              Not affected\n",
            "Vulnerability Mds:               Not affected\n",
            "Vulnerability Meltdown:          Not affected\n",
            "Vulnerability Spec store bypass: Mitigation; Speculative Store Bypass disabled via prctl and seccomp\n",
            "Vulnerability Spectre v1:        Mitigation; usercopy/swapgs barriers and __user pointer sanitization\n",
            "Vulnerability Spectre v2:        Mitigation; Full AMD retpoline, IBPB conditional, STIBP disabled, RSB filling\n",
            "Vulnerability Srbds:             Not affected\n",
            "Vulnerability Tsx async abort:   Not affected\n",
            "Flags:                           fpu vme de pse tsc msr pae mce cx8 apic sep mtrr pge mca cmov pat pse36 clflush mmx fxsr sse sse2 ht syscall nx mmxext fxsr_opt pdpe1gb rdtscp lm constant_tsc rep_good nopl tsc_reliable nonstop_tsc cpuid extd_apicid pni pclmulqdq ssse3 fma cx16 sse4_1 sse4_2 x2apic movbe popcnt aes xsave avx f16c rdrand hypervisor lahf_lm cmp_legacy extapic cr8_legacy abm sse4a misalignsse 3dnowprefetch osvw topoext ssbd ibpb vmmcall fsgsbase bmi1 avx2 smep bmi2 rdseed adx smap clflushopt sha_ni xsaveopt xsavec xgetbv1 xsaves clzero arat overflow_recov succor\n"
          ]
        }
      ],
      "source": [
        "%%script bash\n",
        "lscpu"
      ]
    },
    {
      "cell_type": "markdown",
      "metadata": {
        "id": "p4YotK_xjxzE"
      },
      "source": [
        "**Sequential computation of LU Decomposition**"
      ]
    },
    {
      "cell_type": "code",
      "execution_count": null,
      "metadata": {
        "colab": {
          "base_uri": "https://localhost:8080/"
        },
        "id": "6vyslN4eihUH",
        "outputId": "df25e037-d475-473a-91fb-c96858e93f94"
      },
      "outputs": [
        {
          "name": "stdout",
          "output_type": "stream",
          "text": [
            "Overwriting sequential.cpp\n"
          ]
        }
      ],
      "source": [
        "%%writefile sequential.cpp\n",
        "\n",
        "#include <bits/stdc++.h>\n",
        "\n",
        "using namespace std;\n",
        "using namespace chrono;\n",
        "\n",
        "#define forn(i,n) for(int i=0; i < n; i++)\n",
        "\n",
        "int n;\n",
        "ofstream output, times;\n",
        "double delta = 0.000000001;                            // very small value\n",
        "\n",
        "/////////////////////////////////////// INTIALIZATION AND ALLOCATION OF MATRICES ///////////////////////////////////////\n",
        "\n",
        "double **create_matrix()\n",
        "{\n",
        "    double **m = (double**)malloc(n * sizeof(double*));             \n",
        "    forn(i,n){\n",
        "        m[i] = (double*)malloc(n * sizeof(double));  // allocating memory of n x n to matrix, initializing with 0's\n",
        "        forn(j, n)\n",
        "            m[i][j] = 0.0;\n",
        "    }\n",
        "\n",
        "    return m;\n",
        "}\n",
        "\n",
        "void initialize_A(double** A, double** Areal)\n",
        "{                                                      // initializing the input matrix, making a copy for future reference\n",
        "    forn(i,n)\n",
        "        forn(j,n){\n",
        "            A[i][j] = drand48() * 100;\n",
        "            \n",
        "            Areal[i][j] = A[i][j];                     // Keeping a copy of the original matrix (before its modified)\n",
        "        }\n",
        "}\n",
        "\n",
        "void initialize_L(double** L)\n",
        "{                                                      // initializing the lower triangular matrix\n",
        "    forn(i,n)\n",
        "        forn(j,n)\n",
        "            if(i > j)\n",
        "                L[i][j] = drand48() * 100;\n",
        "            else if(i == j)\n",
        "                L[i][j] = 1.0;\n",
        "}\n",
        "\n",
        "void initialize_U(double** U)\n",
        "{                                                      // initializing the upper triangular matrix\n",
        "    forn(i,n)\n",
        "        forn(j,n)\n",
        "            if(i <= j)\n",
        "                U[i][j] = drand48() * 100;\n",
        "}\n",
        "\n",
        "void freeMemory(double** matrix)\n",
        "{                                                   // deleting all variables with significant memory size\n",
        "    forn(i,n)\n",
        "        delete[] matrix[i];\n",
        "    delete[] matrix;\n",
        "}\n",
        "\n",
        "/////////////////////////////////////////////// MATRIX MULTIPLICATION AND VERIFICATION //////////////////////////////////////////\n",
        "\n",
        "double calculate_residue(double** P, double** A, double** L, double** U)\n",
        "{                                                   // returns the variance of matrix ( PA - LU ) for finding error magnitude\n",
        "    double res = 0.0, res1;\n",
        "\n",
        "    forn(i,n)\n",
        "        forn(j,n){\n",
        "            res1= 0.0;\n",
        "            forn(k,n)\n",
        "                res1 += P[i][k] * A[k][j] - L[i][k] * U[k][j] ;\n",
        "            res += res1 * res1;\n",
        "        }\n",
        "\n",
        "    return res;\n",
        "}\n",
        "\n",
        "string mulMat(double **mat1, double **mat2, int N) {\n",
        "    double rslt[N][N];\n",
        "    ostringstream ss;\n",
        "    ss<< endl;\n",
        " \n",
        "    for (int i = 0; i < N; i++) {\n",
        "        for (int j = 0; j < N; j++) {\n",
        "            rslt[i][j] = 0;\n",
        " \n",
        "            for (int k = 0; k < N; k++) {\n",
        "                rslt[i][j] += mat1[i][k] * mat2[k][j];\n",
        "            }\n",
        " \n",
        "            ss<< rslt[i][j] << \" \";\n",
        "        }\n",
        " \n",
        "        ss<< endl;\n",
        "    }\n",
        "    return ss.str();\n",
        "}\n",
        "\n",
        "//////////////////////////////////////////////// PRINTING AND OUTPUT TO FILE /////////////////////////////////////////////\n",
        "\n",
        "string print_matrix(double** matrix)\n",
        "{\n",
        "    ostringstream ss;                                                     // printing given matrix\n",
        "    forn(i,n){\n",
        "        forn(j,n)\n",
        "            ss << matrix[i][j] << \" \";\n",
        "        ss << endl;\n",
        "    }\n",
        "    return ss.str();\n",
        "}\n",
        "\n",
        "void output_to_file(double **Areal, double **L, double **U, double **P, int *pi, string time_taken)\n",
        "{\n",
        "    //Feed all the matrices output file\n",
        "    output.open(\"out_\"+to_string(n)+\"_\"+\"seq.txt\");    \n",
        "\n",
        "    output<<\"This output file contains output for: \"<<endl;\n",
        "    output<<\"Matrix size: \"<<to_string(n)<<\"x\"<<to_string(n)<<endl;\n",
        "    output<<time_taken<<endl;\n",
        "    output<<endl<<\"Matrix A- \"<<endl<<print_matrix(Areal);\n",
        "    output<<endl<<\"Matrix U- \"<<endl<<print_matrix(U);\n",
        "    output<<endl<<\"Matrix L- \"<<endl<<print_matrix(L);\n",
        "    output<<endl<<\"Matrix P- \"<<endl<<print_matrix(P);\n",
        "\n",
        "    ostringstream ss;\n",
        "    ss<<\"Permute vector: \"<<endl;\n",
        "    forn(i,n)\n",
        "        ss<<pi[i]<<\" \";\n",
        "    output<<ss.str();\n",
        "\n",
        "\n",
        "    output<<endl<<\"Verify matrix multiplication of LU: \"<<endl<<mulMat(L, U, n);\n",
        "}\n",
        "\n",
        "////////////////////////////////////////////////////////////////////////////////////////////////////////////////////////////\n",
        "\n",
        "void lu_decomposition()\n",
        "{\n",
        "    int* pi = (int*)malloc(n * sizeof(int));\n",
        "    double** P = create_matrix(),**A = create_matrix(),\n",
        "        **Areal = create_matrix(),**U = create_matrix(),**L = create_matrix();\n",
        "\n",
        "    initialize_A(A,Areal);\n",
        "    initialize_U(U);\n",
        "    initialize_L(L);\n",
        "\n",
        "    auto t1 = high_resolution_clock::now();        // starting timer\n",
        "\n",
        "    forn(i,n)\n",
        "        pi[i] = i;                                 // initialize pi as a vector of length n\n",
        "\n",
        "    \n",
        "    forn(k,n)\n",
        "    {\n",
        "        double max_A = 0.0;                        // max value below (including) main diagonal in k-th row of A    * PIVOT *\n",
        "        int k1 = -1;                               // row index of this max value\n",
        "\n",
        "        for(int i=k; i < n; i++)\n",
        "            if(max_A < abs(A[i][k]))\n",
        "            {\n",
        "                max_A = abs(A[i][k]);\n",
        "                k1 = i;\n",
        "            }\n",
        "\n",
        "        if(abs(max_A)<delta)                       // raise an error for the matrix being singular\n",
        "            perror(\"received singular matrix A\");\n",
        "\n",
        "        swap(pi[k], pi[k1]);\n",
        "        swap(A[k], A[k1]);                         // swap k-th row with k1-th\n",
        "\n",
        "        forn(m,k)\n",
        "            swap(L[k][m], L[k1][m]);\n",
        "\n",
        "        U[k][k] = A[k][k];\n",
        "\n",
        "        for(int i=k+1; i < n; i++)\n",
        "        {\n",
        "            L[i][k] = A[i][k]/(U[k][k]+delta);     // dividing A(k+1:n,k) by pivot and copying to L(k+1:n,k)\n",
        "            U[k][i] = A[k][i];                     // copying A(k,k+1:n) to U(k,k+1:n)\n",
        "        }\n",
        "        int i;\n",
        "                                                   \n",
        "        for(i=k+1; i < n; i++)\n",
        "        {\n",
        "            for(int j=k+1; j < n; j++)\n",
        "            {\n",
        "                A[i][j] -= L[i][k]*U[k][j];   // decrementing A(k+1:n,k+1:n) by [ L(k+1:n,k) ]*[ U(k,k+1:n) ]'\n",
        "            }\n",
        "        }\n",
        "    }\n",
        "\n",
        "    auto t2 = high_resolution_clock::now();       // ending timer\n",
        "\n",
        "    forn(i,n)\n",
        "        P[i][pi[i]] = 1.0;                        // converting pi into a 2D array by replacing pi[i] with its one hot embedding.\n",
        "\n",
        "    //Printing output to terminal\n",
        "    double residue = calculate_residue(P, Areal, L, U);\n",
        "    cout << \"time taken by Sequential LU decomposition: \" << \n",
        "    duration_cast<microseconds>( t2 - t1 ).count()<<\" micro seconds\"<<endl; // printing the time taken (in seconds)\n",
        "    cout<<\"Residue: \"<<fixed<<setprecision(18)<<residue<<endl;\n",
        "    //cout<<print_matrix(Areal)<<endl;\n",
        "    //cout<<print_matrix(P)<<endl;\n",
        "    //cout<<print_matrix(L)<<endl;\n",
        "    //cout<<print_matrix(U)<<endl;\n",
        "\n",
        "\n",
        "    //Creating output stream to insert into file\n",
        "    ostringstream temp;\n",
        "    temp << \"time taken by Sequential LU decomposition: \" << \n",
        "    duration_cast<microseconds>( t2 - t1 ).count()<<\" micro seconds\"<<endl;\n",
        "    string time_taken = temp.str();\n",
        "\n",
        "    //Feed all matrices to output.txt file\n",
        "    //output_to_file(Areal, L, U, P, pi, time_taken);\n",
        "\n",
        "    // Store only time taken into separate file\n",
        "    times.open(\"openMP_times.txt\", std::ios_base::app); // append instead of overwrite\n",
        "    times<<n<<\" 0\"<<\" \"<<duration_cast<microseconds>( t2 - t1 ).count()<<endl;\n",
        "\n",
        "    freeMemory(P);                                // deleting all variables with significant memory size\n",
        "    freeMemory(A);\n",
        "    freeMemory(Areal);\n",
        "    freeMemory(L);\n",
        "    freeMemory(U);\n",
        "    delete [] pi;\n",
        "}\n",
        "\n",
        "int main(int argc, char* argv[])\n",
        "{\n",
        "    n = stoi(argv[1]);\n",
        "\n",
        "    //srand48((unsigned int) time(nullptr));        // seed for pseudo-random number generator\n",
        "\n",
        "    lu_decomposition();   \n",
        "\n",
        "    return 0;\n",
        "}"
      ]
    },
    {
      "cell_type": "code",
      "execution_count": null,
      "metadata": {
        "id": "j_Z8aECNLRFZ"
      },
      "outputs": [],
      "source": [
        ""
      ]
    },
    {
      "cell_type": "markdown",
      "metadata": {
        "id": "4n8eECEnj9Xj"
      },
      "source": [
        "**Parallel Computation of LU decomposition using OpenMP library**"
      ]
    },
    {
      "cell_type": "code",
      "execution_count": null,
      "metadata": {
        "colab": {
          "base_uri": "https://localhost:8080/"
        },
        "id": "TucM9FP4gs1h",
        "outputId": "ca5f037d-75b5-436a-c035-115a86a9d995"
      },
      "outputs": [
        {
          "name": "stdout",
          "output_type": "stream",
          "text": [
            "Overwriting openMP.cpp\n"
          ]
        }
      ],
      "source": [
        "%%writefile openMP.cpp\n",
        "\n",
        "#include <bits/stdc++.h>\n",
        "#include <omp.h>\n",
        "\n",
        "using namespace std;\n",
        "using namespace chrono;\n",
        "\n",
        "#define forn(i,n) for(int i=0; i < n; i++)\n",
        "\n",
        "int n, num_thread;\n",
        "ofstream output, times;\n",
        "double delta = 0.000000001;                            // very small value\n",
        "\n",
        "\n",
        "////////////////////////////////////////////////  INITIALIZATION FUNCTIONS  /////////////////////////////////////////////\n",
        "\n",
        "double **create_matrix()\n",
        "{\n",
        "    double **m = (double**)malloc(n * sizeof(double*));             \n",
        "    forn(i,n){\n",
        "        m[i] = (double*)malloc(n * sizeof(double));  // allocating memory of n x n to matrix, initializing with 0's\n",
        "        forn(j, n)\n",
        "            m[i][j] = 0.0;\n",
        "    }\n",
        "\n",
        "    return m;\n",
        "}\n",
        "\n",
        "void initialize_A(double** A, double** Areal)\n",
        "{                                                      // initializing the input matrix, making a copy for future reference\n",
        "    forn(i,n)\n",
        "        forn(j,n){\n",
        "            A[i][j] = drand48() * 100;\n",
        "            \n",
        "            Areal[i][j] = A[i][j];                     // Keeping a copy of the original matrix (before its modified)\n",
        "        }\n",
        "}\n",
        "\n",
        "void initialize_L(double** L)\n",
        "{                                                      // initializing the lower triangular matrix\n",
        "    forn(i,n)\n",
        "        forn(j,n)\n",
        "            if(i > j)\n",
        "                L[i][j] = drand48() * 100;\n",
        "            else if(i == j)\n",
        "                L[i][j] = 1.0;\n",
        "}\n",
        "\n",
        "void initialize_U(double** U)\n",
        "{                                                      // initializing the upper triangular matrix\n",
        "    forn(i,n)\n",
        "        forn(j,n)\n",
        "            if(i <= j)\n",
        "                U[i][j] = drand48() * 100;\n",
        "}\n",
        "\n",
        "void freeMemory(double** matrix)\n",
        "{                                                   // deleting all variables with significant memory size\n",
        "    forn(i,n)\n",
        "        delete[] matrix[i];\n",
        "    delete[] matrix;\n",
        "}\n",
        "\n",
        "///////////////////////////////////////////////////// MATRIX MULTIPLICATION FOR VERIFACTION /////////////////////////////////////////////////\n",
        "string mulMat(double **mat1, double **mat2, int N) {\n",
        "    double rslt[N][N];\n",
        "    ostringstream ss;\n",
        "    ss<< endl;\n",
        " \n",
        "    for (int i = 0; i < N; i++) {\n",
        "        for (int j = 0; j < N; j++) {\n",
        "            rslt[i][j] = 0;\n",
        " \n",
        "            for (int k = 0; k < N; k++) {\n",
        "                rslt[i][j] += mat1[i][k] * mat2[k][j];\n",
        "            }\n",
        " \n",
        "            ss<< rslt[i][j] << \" \";\n",
        "        }\n",
        " \n",
        "        ss<< endl;\n",
        "    }\n",
        "    return ss.str();\n",
        "}\n",
        "\n",
        "///////////////////////////////////////////////////// PRINTING AND OUTPUT TO FILE /////////////////////////////////////////////////\n",
        "\n",
        "string print_matrix(double** matrix)\n",
        "{\n",
        "    ostringstream ss;                                                     // printing given matrix\n",
        "    forn(i,n){\n",
        "        forn(j,n)\n",
        "            ss << matrix[i][j] << \" \";\n",
        "        ss << endl;\n",
        "    }\n",
        "    return ss.str();\n",
        "}\n",
        "\n",
        "void output_to_file(double **Areal, double **L, double **U, double **P, int *pi, string time_taken)\n",
        "{\n",
        "    //Feed all the matrices output file\n",
        "    output.open(\"out_\"+to_string(n)+\"_\"+to_string(num_thread)+\"t_\"+\"openmp.txt\");    \n",
        "\n",
        "    output<<\"This output file contains output for: \"<<endl;\n",
        "    output<<\"Matrix size: \"<<to_string(n)<<\"x\"<<to_string(n)<<endl;\n",
        "    output<<\"Number of threads: \"<<to_string(num_thread)<<endl;\n",
        "    output<<time_taken<<endl;\n",
        "    output<<endl<<\"Matrix A- \"<<endl<<print_matrix(Areal);\n",
        "    output<<endl<<\"Matrix U- \"<<endl<<print_matrix(U);\n",
        "    output<<endl<<\"Matrix L- \"<<endl<<print_matrix(L);\n",
        "    output<<endl<<\"Matrix P- \"<<endl<<print_matrix(P);\n",
        "\n",
        "    ostringstream ss;\n",
        "    forn(i,n)\n",
        "        ss<<pi[i]<<\" \";\n",
        "    output<<endl<<\"Permutation vector :- \"<<endl<<ss.str()<<endl;\n",
        "\n",
        "    output<<endl<<\"Verify matrix multiplication of LU: \"<<endl<<mulMat(L, U, n);\n",
        "\n",
        "}\n",
        "\n",
        "/////////////////////////////////////////////////// RESIDUAL CALCULATION ///////////////////////////////////////////////////\n",
        "\n",
        "double calculate_residue(double** P, double** A, double** L, double** U)\n",
        "{                                                   // returns the variance of matrix ( PA - LU ) for finding error magnitude\n",
        "    double res = 0.0, res1;\n",
        "\n",
        "    forn(i,n)\n",
        "        forn(j,n){\n",
        "            res1= 0.0;\n",
        "            forn(k,n)\n",
        "                res1 += P[i][k] * A[k][j] - L[i][k] * U[k][j] ;\n",
        "            res += res1 * res1;\n",
        "        }\n",
        "\n",
        "    return res;\n",
        "}\n",
        "\n",
        "/////////////////////////////////////////////// LU DECOMPOSITION ////////////////////////////////////////////////////\n",
        "void lu_decomposition()\n",
        "{\n",
        "    int* pi = (int*)malloc(n * sizeof(int));\n",
        "    double** P = create_matrix(),**A = create_matrix(),\n",
        "        **Areal = create_matrix(),**U = create_matrix(),**L = create_matrix();\n",
        "\n",
        "    initialize_A(A,Areal);\n",
        "    initialize_U(U);\n",
        "    initialize_L(L);\n",
        "\n",
        "    auto t1 = high_resolution_clock::now();        // starting timer\n",
        "\n",
        "    forn(i,n)\n",
        "        pi[i] = i;                                 // initialize pi as a vector of length n\n",
        "\n",
        "    \n",
        "    forn(k,n)\n",
        "    {\n",
        "        double max_A = 0.0;                        // max value below (including) main diagonal in k-th row of A    * PIVOT *\n",
        "        int k1 = -1;                               // row index of this max value\n",
        "\n",
        "        for(int i=k; i < n; i++)\n",
        "            if(max_A < abs(A[i][k]))\n",
        "            {\n",
        "                max_A = abs(A[i][k]);\n",
        "                k1 = i;\n",
        "            }\n",
        "\n",
        "        if(abs(max_A)<delta)                       // raise an error for the matrix being singular\n",
        "            perror(\"received singular matrix A\");\n",
        "\n",
        "        swap(pi[k], pi[k1]);\n",
        "\n",
        "        #pragma omp parallel num_threads(num_thread) shared(A, L, U, n, delta, k, k1)\n",
        "        {\n",
        "            // swap k-th row with k1-th\n",
        "            #pragma omp for nowait\n",
        "            for(long i=0;i<n;i++){\n",
        "                #pragma omp critical\n",
        "                {\n",
        "                    double temp = A[k][i];\n",
        "                    A[k][i] = A[k1][i];\n",
        "                    A[k1][i] = temp;\n",
        "                }\n",
        "            }\n",
        "\n",
        "            #pragma omp for\n",
        "            for(int m=0; m<k; m++)\n",
        "            {\n",
        "                double x = L[k][m];\n",
        "                L[k][m] = L[k1][m];\n",
        "                L[k1][m] = x;\n",
        "            }\n",
        "\n",
        "            U[k][k] = A[k][k];\n",
        "\n",
        "            #pragma omp for\n",
        "            for(int i=k+1; i < n; i++)\n",
        "            {\n",
        "                L[i][k] = A[i][k]/(U[k][k]+delta);     // dividing A(k+1:n,k) by pivot and copying to L(k+1:n,k)\n",
        "                U[k][i] = A[k][i];                     // copying A(k,k+1:n) to U(k,k+1:n)\n",
        "            }\n",
        "\n",
        "            #pragma omp for collapse(2)\n",
        "            for(int i=k+1; i < n; i++)\n",
        "            {\n",
        "                for(int j=k+1; j < n; j++)\n",
        "                {\n",
        "                    A[i][j] -= L[i][k]*U[k][j];   // decrementing A(k+1:n,k+1:n) by [ L(k+1:n,k) ]*[ U(k,k+1:n) ]'\n",
        "                }\n",
        "            }\n",
        "        }                          \n",
        "        \n",
        "    }\n",
        "\n",
        "\n",
        "    auto t2 = high_resolution_clock::now();       // ending timer\n",
        "\n",
        "\n",
        "    forn(i,n)\n",
        "        P[i][pi[i]] = 1.0;                        // converting pi into a 2D array by replacing pi[i] with its one hot embedding.\n",
        "    \n",
        "    //Printing output to terminal\n",
        "    //double residue = calculate_residue(P, Areal, L, U);\n",
        "    cout << \"time taken by parallel LU decomposition \" << \"( \"<< n << \" | \"<< num_thread << \" ) : \"<<\n",
        "    duration_cast<microseconds>( t2 - t1 ).count()<<\" micro seconds\"<<endl; // printing the time taken (in micro seconds)\n",
        "    //cout<<\"Residue: \"<<fixed<<setprecision(18)<<residue<<endl;\n",
        "    //cout<<print_matrix(Areal)<<endl;\n",
        "    //cout<<print_matrix(P)<<endl;\n",
        "    //cout<<print_matrix(L)<<endl;\n",
        "    //cout<<print_matrix(U)<<endl;\n",
        "\n",
        "\n",
        "    //Creating output stream to insert into file\n",
        "    ostringstream temp;\n",
        "    temp << \"time taken by parallel LU decomposition: \" << \n",
        "    duration_cast<microseconds>( t2 - t1 ).count()<<\" micro seconds\"<<endl;\n",
        "    string time_taken = temp.str();\n",
        "\n",
        "    //Feed all matrices to output.txt file\n",
        "    //output_to_file(Areal, L, U, P, pi, time_taken);\n",
        "\n",
        "    times.open(\"openMP_times.txt\", std::ios_base::app); // append instead of overwrite\n",
        "    times<<n<<\" \"<<num_thread<<\" \"<<duration_cast<microseconds>( t2 - t1 ).count()<<endl;\n",
        "\n",
        "\n",
        "    freeMemory(P);                                // deleting all variables with significant memory size\n",
        "    freeMemory(A);\n",
        "    freeMemory(Areal);\n",
        "    freeMemory(L);\n",
        "    freeMemory(U);\n",
        "    delete [] pi;\n",
        "}\n",
        "\n",
        "int main(int argc, char* argv[])\n",
        "{\n",
        "    n = stoi(argv[1]);\n",
        "    num_thread = stoi(argv[2]);\n",
        "    //srand48((unsigned int) time(nullptr));        // seed for pseudo-random number generator\n",
        "\n",
        "    lu_decomposition();   \n",
        "\n",
        "    return 0;\n",
        "}"
      ]
    },
    {
      "cell_type": "markdown",
      "metadata": {
        "id": "JnZm_g1f-jLt"
      },
      "source": [
        "**Parallel Computation of LU decomposition using Pthread library**"
      ]
    },
    {
      "cell_type": "code",
      "execution_count": null,
      "metadata": {
        "colab": {
          "base_uri": "https://localhost:8080/"
        },
        "id": "N54AlhrI-b8k",
        "outputId": "27f31919-07a8-4086-ddd0-ba69cae7c3b8"
      },
      "outputs": [
        {
          "name": "stdout",
          "output_type": "stream",
          "text": [
            "Overwriting pthread.cpp\n"
          ]
        }
      ],
      "source": [
        "%%writefile pthread.cpp\n",
        "\n",
        "#include <bits/stdc++.h>\n",
        "#include <pthread.h>\n",
        "\n",
        "using namespace std;\n",
        "using namespace chrono;\n",
        "\n",
        "#define forn(i,n) for(int i=0; i < n; i++)\n",
        "\n",
        "int n, num_thread;\n",
        "ofstream output, times;\n",
        "double delta = 0.000000001;                            // very small value\n",
        "\n",
        "/////////////////////////////////////////// Structure for passing arguments to pthread_create()//////////////////////////////// \n",
        "typedef struct thread_arguments {                      // arguments passed into each thread\n",
        "    double** A;\n",
        "    double** L;\n",
        "    double** U;\n",
        "    int core;\n",
        "    int row;\n",
        "} args;\n",
        "\n",
        "\n",
        "/////////////////////////////////////////// INITIALIZATION OF MATRICES ////////////////////////////////////////////////\n",
        "void initialize_A(double** A, double** Areal)\n",
        "{                                                      // initializing the input matrix, making a copy for future reference\n",
        "    forn(i,n)\n",
        "        forn(j,n){\n",
        "            A[i][j] = drand48() * 100;\n",
        "            \n",
        "            Areal[i][j] = A[i][j];                     // Keeping a copy of the original matrix (before its modified)\n",
        "        }\n",
        "}\n",
        "\n",
        "void initialize_L(double** L)\n",
        "{                                                      // initializing the lower triangular matrix\n",
        "    forn(i,n)\n",
        "        forn(j,n)\n",
        "            if(i > j)\n",
        "                L[i][j] = drand48() * 100;\n",
        "            else if(i == j)\n",
        "                L[i][j] = 1.0;\n",
        "}\n",
        "\n",
        "void initialize_U(double** U)\n",
        "{                                                      // initializing the upper triangular matrix\n",
        "    forn(i,n)\n",
        "        forn(j,n)\n",
        "            if(i <= j)\n",
        "                U[i][j] = drand48() * 100;\n",
        "}\n",
        "\n",
        "double **create_matrix()\n",
        "{\n",
        "    double **m = (double**)malloc(n * sizeof(double*));             \n",
        "    forn(i,n){\n",
        "        m[i] = (double*)malloc(n * sizeof(double));  // allocating memory of n x n to matrix, initializing with 0's\n",
        "        forn(j, n)\n",
        "            m[i][j] = 0.0;\n",
        "    }\n",
        "\n",
        "    return m;\n",
        "}\n",
        "\n",
        "void freeMemory(double** matrix)\n",
        "{                                                   // deleting all variables with significant memory size\n",
        "    forn(i,n)\n",
        "        delete[] matrix[i];\n",
        "    delete[] matrix;\n",
        "}\n",
        "\n",
        "//////////////////////////////////////////////// RESIDUE CALCULATION /////////////////////////////////////////////////\n",
        "\n",
        "double calculate_residue(double** P, double** A, double** L, double** U)\n",
        "{                                                   // returns the variance of matrix ( PA - LU ) for finding error magnitude\n",
        "    double res = 0.0, res1;\n",
        "\n",
        "    forn(i,n)\n",
        "        forn(j,n){\n",
        "            res1= 0.0;\n",
        "            forn(k,n)\n",
        "                res1 += P[i][k] * A[k][j] - L[i][k] * U[k][j] ;\n",
        "            res += res1 * res1;\n",
        "        }\n",
        "\n",
        "    return res;\n",
        "}\n",
        "\n",
        "////////////////////////////////////////////// MATRIX MULTIPLICATION FOR VERIFICATION ///////////////////////////////////\n",
        "\n",
        "string mulMat(double **mat1, double **mat2, int N) {\n",
        "    double rslt[N][N];\n",
        "    ostringstream ss;\n",
        "    ss << endl;\n",
        " \n",
        "    for (int i = 0; i < N; i++) {\n",
        "        for (int j = 0; j < N; j++) {\n",
        "            rslt[i][j] = 0;\n",
        " \n",
        "            for (int k = 0; k < N; k++) {\n",
        "                rslt[i][j] += mat1[i][k] * mat2[k][j];\n",
        "            }\n",
        " \n",
        "            ss<< rslt[i][j] << \" \";\n",
        "        }\n",
        " \n",
        "        ss<< endl;\n",
        "    }\n",
        "    return ss.str();\n",
        "}\n",
        "\n",
        "////////////////////////////////////////////////// PRINTING AND OUTPUT //////////////////////////////////////////////////\n",
        "\n",
        "string print_matrix(double** matrix)\n",
        "{\n",
        "    ostringstream ss;                                                     // printing given matrix\n",
        "    forn(i,n){\n",
        "        forn(j,n)\n",
        "            ss << matrix[i][j] << \" \";\n",
        "        ss << endl;\n",
        "    }\n",
        "    return ss.str();\n",
        "}\n",
        "\n",
        "void output_to_file(double **Areal, double **L, double **U, double **P, int *pi, string time_taken)\n",
        "{\n",
        "    //Feed all the matrices output file\n",
        "    output.open(\"out_\"+to_string(n)+\"_\"+to_string(num_thread)+\"t_\"+\"pthread.txt\");    \n",
        "\n",
        "    output<<\"This output file contains output for: \"<<endl;\n",
        "    output<<\"Matrix size: \"<<to_string(n)<<\"x\"<<to_string(n)<<endl;\n",
        "    output<<\"Number of threads: \"<<to_string(num_thread)<<endl;\n",
        "    output<<time_taken<<endl;\n",
        "    output<<endl<<\"Matrix A- \"<<endl<<print_matrix(Areal);\n",
        "    output<<endl<<\"Matrix U- \"<<endl<<print_matrix(U);\n",
        "    output<<endl<<\"Matrix L- \"<<endl<<print_matrix(L);\n",
        "    output<<endl<<\"Matrix P- \"<<endl<<print_matrix(P);\n",
        "\n",
        "    ostringstream ss;\n",
        "    forn(i,n)\n",
        "        ss<<pi[i]<<\" \";\n",
        "    output<<endl<<\"Permutation vector :- \"<<endl<<ss.str()<<endl;\n",
        "\n",
        "    output<<endl<<\"Verify matrix multiplication of LU: \"<<endl<<mulMat(L, U, n);\n",
        "}\n",
        "\n",
        "//////////////////////////////////////////////// THREAD COMPUTATION ////////////////////////////////////////////\n",
        "\n",
        "void* thread_computation(void* input)\n",
        "{\n",
        "    void* t;\n",
        "    int core = ((args*)input)->core , k = ((args*)input)->row;\n",
        "\n",
        "    for(int i=(k+1)+core*(n-(k+1))/num_thread; i < (k+1)+(core+1)*(n-(k+1))/num_thread; i++)\n",
        "    {                                               // chunk of size (n - (k+1))/num_threads\n",
        "        for(int j=k+1; j < n; j++)\n",
        "        {\n",
        "            ((args*)input)->A[i][j] -= ((args*)input)->L[i][k]\n",
        "                        *((args*)input)->U[k][j];   // decrementing A(k+1:n,k+1:n) by [ L(k+1:n,k) ]*[ U(k,k+1:n) ]'\n",
        "        }\n",
        "    }\n",
        "    return t;\n",
        "}\n",
        "\n",
        "////////////////////////////////////////////////////// LU DECOMPOSITION //////////////////////////////////////////////\n",
        "void lu_decomposition()\n",
        "{\n",
        "    int* pi = (int*)malloc(n * sizeof(int));\n",
        "    double** P = create_matrix(),**A = create_matrix(),\n",
        "        **Areal = create_matrix(),**U = create_matrix(),**L = create_matrix();\n",
        "\n",
        "    initialize_A(A,Areal);\n",
        "    initialize_U(U);\n",
        "    initialize_L(L);\n",
        "\n",
        "    auto t1 = high_resolution_clock::now();        // starting timer\n",
        "\n",
        "    pthread_t threads[num_thread];                // initializing an array of threads\n",
        "\n",
        "    forn(i,n)\n",
        "        pi[i] = i;                                 // initialize pi as a vector of length n\n",
        "\n",
        "    \n",
        "    forn(k,n)\n",
        "    {\n",
        "        double max_A = 0.0;                        // max value below (including) main diagonal in k-th row of A    * PIVOT *\n",
        "        int k1 = -1;                               // row index of this max value\n",
        "\n",
        "        for(int i=k; i < n; i++)\n",
        "            if(max_A < abs(A[i][k]))\n",
        "            {\n",
        "                max_A = abs(A[i][k]);\n",
        "                k1 = i;\n",
        "            }\n",
        "\n",
        "        if(abs(max_A)<delta)                       // raise an error for the matrix being singular\n",
        "            perror(\"received singular matrix A\");\n",
        "\n",
        "        swap(pi[k], pi[k1]);\n",
        "        swap(A[k], A[k1]);                         // swap k-th row with k1-th\n",
        "\n",
        "        forn(m,k)\n",
        "            swap(L[k][m], L[k1][m]);\n",
        "\n",
        "        U[k][k] = A[k][k];\n",
        "\n",
        "        for(int i=k+1; i < n; i++)\n",
        "        {\n",
        "            L[i][k] = A[i][k]/(U[k][k]+delta);     // dividing A(k+1:n,k) by pivot and copying to L(k+1:n,k)\n",
        "            U[k][i] = A[k][i];                     // copying A(k,k+1:n) to U(k,k+1:n)\n",
        "        }\n",
        "\n",
        "        forn(i,num_thread){\n",
        "            args *in = (args *)malloc(sizeof(args));\n",
        "            in->A = A;                             // initializing arguments to be passed into the i-th thread\n",
        "            in->L = L;\n",
        "            in->U = U;\n",
        "            in->row = k;\n",
        "            in->core = i;\n",
        "            pthread_create(&threads[i], NULL, thread_computation, (void*)(in)); \n",
        "        }\n",
        "        forn(i,num_thread)\n",
        "            pthread_join(threads[i], NULL);       // joining all threads after they finish\n",
        "    }\n",
        "\n",
        "    auto t2 = high_resolution_clock::now();       // ending timer\n",
        "\n",
        "    forn(i,n)\n",
        "        P[i][pi[i]] = 1.0;                        // converting pi into a 2D array by replacing pi[i] with its one hot embedding.\n",
        "\n",
        "    //Printing output to terminal\n",
        "    //double residue = calculate_residue(P, Areal, L, U);\n",
        "    cout << \"time taken by parallel LU decomposition \" << \"( \"<< n << \" | \"<< num_thread << \" ) : \"<<\n",
        "    duration_cast<microseconds>( t2 - t1 ).count()<<\" micro seconds\"<<endl; // printing the time taken (in seconds)\n",
        "    //cout<<\"Residue: \"<<fixed<<setprecision(18)<<residue<<endl;\n",
        "    //cout<<print_matrix(Areal)<<endl;\n",
        "    //cout<<print_matrix(P)<<endl;\n",
        "    //cout<<print_matrix(L)<<endl;\n",
        "    //cout<<print_matrix(U)<<endl;\n",
        "\n",
        "\n",
        "    //Creating output stream to insert into file\n",
        "    ostringstream temp;\n",
        "    temp << \"time taken by parallel LU decomposition: \" << \n",
        "    duration_cast<microseconds>( t2 - t1 ).count()<<\" micro seconds\"<<endl;\n",
        "    string time_taken = temp.str();\n",
        "    \n",
        "    //Feed all matrices to output.txt file\n",
        "    //output_to_file(Areal, L, U, P, pi, time_taken);\n",
        "\n",
        "    times.open(\"pthread_times.txt\", std::ios_base::app); // append instead of overwrite\n",
        "    times<<n<<\" \"<<num_thread<<\" \"<<duration_cast<microseconds>( t2 - t1 ).count()<<endl;\n",
        "\n",
        "\n",
        "    freeMemory(P);                                // deleting all variables with significant memory size\n",
        "    freeMemory(A);\n",
        "    freeMemory(Areal);\n",
        "    freeMemory(L);\n",
        "    freeMemory(U);\n",
        "    delete [] pi;\n",
        "}\n",
        "\n",
        "int main(int argc, char* argv[])\n",
        "{\n",
        "    n = stoi(argv[1]);\n",
        "    num_thread = stoi(argv[2]);\n",
        "    //srand48((unsigned int) time(nullptr));        // seed for pseudo-random number generator\n",
        "\n",
        "    lu_decomposition();   \n",
        "\n",
        "    return 0;\n",
        "}"
      ]
    },
    {
      "cell_type": "markdown",
      "metadata": {
        "id": "Otq88Ga0x9Re"
      },
      "source": [
        "**Compile all Sequential and Parallel Programs**"
      ]
    },
    {
      "cell_type": "code",
      "execution_count": null,
      "metadata": {
        "id": "yEM5pZPai1XW"
      },
      "outputs": [],
      "source": [
        "%%script bash\n",
        "g++ -o sequential sequential.cpp\n",
        "g++ -fopenmp -o openMP openMP.cpp\n",
        "g++ -pthread -o pthread pthread.cpp"
      ]
    },
    {
      "cell_type": "markdown",
      "metadata": {
        "id": "V0l7an5FLRFj"
      },
      "source": [
        "**Plotting Functions**"
      ]
    },
    {
      "cell_type": "code",
      "execution_count": null,
      "metadata": {
        "id": "-IxT00q4olLm"
      },
      "outputs": [],
      "source": [
        "import matplotlib.pyplot as plt\n",
        "import numpy as np"
      ]
    },
    {
      "cell_type": "code",
      "execution_count": null,
      "metadata": {
        "id": "cbx_wsN5p7rU"
      },
      "outputs": [],
      "source": [
        "def Read_Three_Column_File(file_name):\n",
        "    with open(file_name, 'r') as data:\n",
        "        size = []\n",
        "        threads = []\n",
        "        time_taken = []\n",
        "        for line in data:\n",
        "            p = line.split(\" \")\n",
        "            size.append(float(p[0]))\n",
        "            threads.append(float(p[1]))\n",
        "            time_taken.append(float(p[2]))\n",
        "\n",
        "    return size, threads, time_taken"
      ]
    },
    {
      "cell_type": "code",
      "execution_count": null,
      "metadata": {
        "id": "B7JC6D5xo85c"
      },
      "outputs": [],
      "source": [
        "# plotting the points\n",
        "def plot_graph():\n",
        "    z, x, y = Read_Three_Column_File('openMP_times.txt')\n",
        "    z1, x1, y1 = Read_Three_Column_File('pthread_times.txt')\n",
        "\n",
        "    print(\"No. of Threads: \",x) \n",
        "    print(\"Time taken by OpenMP: \",y)\n",
        "    print(\"No. of Threads: \",x1)\n",
        "    print(\"Time taken by Pthread: \",y1)\n",
        "\n",
        "    #plt.plot(x, y, \"-o\")\n",
        "    #plt.plot(x1, y1, \"-o\")\n",
        "\n",
        "    plt.plot(x, y,\"-o\", label ='OpenMP')\n",
        "    plt.plot(x1, y1,\"-o\", label ='Pthread')\n",
        "\n",
        "    # Function add a legend  \n",
        "    plt.legend()\n",
        "\n",
        "    x0 = [x[0]]\n",
        "    y0 = [y[0]]\n",
        "    plt.plot(x0, y0, \"s\")\n",
        "\n",
        "    # naming the x axis\n",
        "    plt.xlabel('Threads')\n",
        "    # naming the y axis\n",
        "    plt.ylabel('Time taken in micro seconds')\n",
        "\n",
        "    # giving a title to my graph\n",
        "    plt.title('Speedup Analysis')\n",
        "\n",
        "    # changing the size of figure to 8*6\n",
        "    plt.rcParams[\"figure.figsize\"] = (20, 10)\n",
        "    \n",
        "    # function to show the plot\n",
        "    plt.show()"
      ]
    },
    {
      "cell_type": "markdown",
      "metadata": {
        "id": "RlIc8wVYLRFl"
      },
      "source": [
        "**Remove all previous result files**"
      ]
    },
    {
      "cell_type": "code",
      "execution_count": null,
      "metadata": {
        "scrolled": true,
        "id": "zEnoB532LRFl"
      },
      "outputs": [],
      "source": [
        "%%script bash\n",
        "rm openMP_times.txt\n",
        "rm pthread_times.txt"
      ]
    },
    {
      "cell_type": "markdown",
      "metadata": {
        "id": "jRC-NS_SyDzH"
      },
      "source": [
        "**Run the ALL Programs**"
      ]
    },
    {
      "cell_type": "code",
      "execution_count": null,
      "metadata": {
        "colab": {
          "base_uri": "https://localhost:8080/"
        },
        "id": "skc9rIPGkd6G",
        "outputId": "a4bef380-27a0-475e-9134-a29c0e740a26"
      },
      "outputs": [
        {
          "name": "stdout",
          "output_type": "stream",
          "text": [
            "\n",
            " SEQUENTIAL EXECUTION \n",
            "time taken by Sequential LU decomposition: 3315 micro seconds\n",
            "Residue: 0.000000000000000771\n",
            "\n",
            " OPENMP EXECUTIONS \n",
            "time taken by parallel LU decomposition ( 100 | 2 ) : 2514 micro seconds\n",
            "time taken by parallel LU decomposition ( 100 | 4 ) : 3454 micro seconds\n",
            "time taken by parallel LU decomposition ( 100 | 8 ) : 181987 micro seconds\n",
            "time taken by parallel LU decomposition ( 100 | 12 ) : 110703 micro seconds\n",
            "time taken by parallel LU decomposition ( 100 | 16 ) : 145354 micro seconds\n",
            "time taken by parallel LU decomposition ( 100 | 20 ) : 178331 micro seconds\n",
            "time taken by parallel LU decomposition ( 100 | 32 ) : 282370 micro seconds\n",
            "\n",
            " PTHREAD EXECUTIONS \n",
            "time taken by parallel LU decomposition ( 100 | 2 ) : 22005 micro seconds\n",
            "time taken by parallel LU decomposition ( 100 | 4 ) : 38849 micro seconds\n",
            "time taken by parallel LU decomposition ( 100 | 8 ) : 159987 micro seconds\n",
            "time taken by parallel LU decomposition ( 100 | 12 ) : 186565 micro seconds\n",
            "time taken by parallel LU decomposition ( 100 | 16 ) : 173623 micro seconds\n",
            "time taken by parallel LU decomposition ( 100 | 20 ) : 262057 micro seconds\n",
            "time taken by parallel LU decomposition ( 100 | 32 ) : 332965 micro seconds\n"
          ]
        }
      ],
      "source": [
        "%%script bash\n",
        "printf \"\\n SEQUENTIAL EXECUTION \\n\"\n",
        "./sequential 100\n",
        "printf \"\\n OPENMP EXECUTIONS \\n\"\n",
        "./openMP 100 2\n",
        "./openMP 100 4\n",
        "./openMP 100 8\n",
        "./openMP 100 12\n",
        "./openMP 100 16\n",
        "./openMP 100 20\n",
        "./openMP 100 32\n",
        "printf \"\\n PTHREAD EXECUTIONS \\n\"\n",
        "./pthread 100 2\n",
        "./pthread 100 4\n",
        "./pthread 100 8\n",
        "./pthread 100 12\n",
        "./pthread 100 16\n",
        "./pthread 100 20\n",
        "./pthread 100 32"
      ]
    },
    {
      "cell_type": "markdown",
      "metadata": {
        "id": "yl-qe4DoySBD"
      },
      "source": [
        "Output file contains data columnwise-\n",
        "\n",
        "\n",
        "1.   Number of rows/columns in matrix\n",
        "2.   Number of threads\n",
        "3.   Time Taken in micro seconds\n",
        "\n",
        "Note- The first row always defines the sequential program result\n",
        "\n"
      ]
    },
    {
      "cell_type": "code",
      "execution_count": null,
      "metadata": {
        "colab": {
          "base_uri": "https://localhost:8080/"
        },
        "id": "Zamzb6H5nN3o",
        "outputId": "3f663933-08c4-439e-c40b-cd8a274d838e"
      },
      "outputs": [
        {
          "name": "stdout",
          "output_type": "stream",
          "text": [
            "100 0 3315\r\n",
            "100 2 2514\r\n",
            "100 4 3454\r\n",
            "100 8 181987\r\n",
            "100 12 110703\r\n",
            "100 16 145354\r\n",
            "100 20 178331\r\n",
            "100 32 282370\r\n"
          ]
        }
      ],
      "source": [
        "cat openMP_times.txt"
      ]
    },
    {
      "cell_type": "code",
      "execution_count": null,
      "metadata": {
        "colab": {
          "base_uri": "https://localhost:8080/"
        },
        "id": "GXiah6feApeP",
        "outputId": "afeaf111-77c5-4915-fe50-950ed16f5187"
      },
      "outputs": [
        {
          "name": "stdout",
          "output_type": "stream",
          "text": [
            "100 2 22005\r\n",
            "100 4 38849\r\n",
            "100 8 159987\r\n",
            "100 12 186565\r\n",
            "100 16 173623\r\n",
            "100 20 262057\r\n",
            "100 32 332965\r\n"
          ]
        }
      ],
      "source": [
        "cat pthread_times.txt"
      ]
    },
    {
      "cell_type": "code",
      "execution_count": null,
      "metadata": {
        "id": "Usvmb38Y-5Lv",
        "outputId": "aeb04f05-690a-4a17-db68-f33f31bbe2e7"
      },
      "outputs": [
        {
          "name": "stdout",
          "output_type": "stream",
          "text": [
            "No. of Threads:  [0.0, 2.0, 4.0, 8.0, 12.0, 16.0, 20.0, 32.0]\n",
            "Time taken by OpenMP:  [3315.0, 2514.0, 3454.0, 181987.0, 110703.0, 145354.0, 178331.0, 282370.0]\n",
            "No. of Threads:  [2.0, 4.0, 8.0, 12.0, 16.0, 20.0, 32.0]\n",
            "Time taken by Pthread:  [22005.0, 38849.0, 159987.0, 186565.0, 173623.0, 262057.0, 332965.0]\n"
          ]
        },
        {
          "data": {
            "image/png": "[encoded data removed]",
            "text/plain": [
              "<Figure size 1440x720 with 1 Axes>"
            ]
          },
          "metadata": {
            "needs_background": "light"
          },
          "output_type": "display_data"
        }
      ],
      "source": [
        "plot_graph()"
      ]
    },
    {
      "cell_type": "code",
      "execution_count": null,
      "metadata": {
        "id": "cYoXvCTMLRFo"
      },
      "outputs": [],
      "source": [
        ""
      ]
    },
    {
      "cell_type": "code",
      "execution_count": null,
      "metadata": {
        "id": "d5N6waT9LRFo"
      },
      "outputs": [],
      "source": [
        ""
      ]
    },
    {
      "cell_type": "code",
      "execution_count": null,
      "metadata": {
        "id": "6Cs7uiEopYgF"
      },
      "outputs": [],
      "source": [
        "%%script bash\n",
        "rm openMP_times.txt\n",
        "rm pthread_times.txt"
      ]
    },
    {
      "cell_type": "code",
      "execution_count": null,
      "metadata": {
        "id": "3KUPlZMpLRFp"
      },
      "outputs": [],
      "source": [
        ""
      ]
    },
    {
      "cell_type": "code",
      "execution_count": null,
      "metadata": {
        "id": "4GoWjRjELRFp"
      },
      "outputs": [],
      "source": [
        ""
      ]
    },
    {
      "cell_type": "code",
      "execution_count": null,
      "metadata": {
        "colab": {
          "base_uri": "https://localhost:8080/"
        },
        "outputId": "a4bef380-27a0-475e-9134-a29c0e740a26",
        "id": "w-cE-sBZLRFp"
      },
      "outputs": [
        {
          "name": "stdout",
          "output_type": "stream",
          "text": [
            "\n",
            " SEQUENTIAL EXECUTION \n",
            "time taken by Sequential LU decomposition: 209532 micro seconds\n",
            "Residue: 0.000000000000013915\n",
            "\n",
            " OPENMP EXECUTIONS \n",
            "time taken by parallel LU decomposition ( 500 | 2 ) : 153695 micro seconds\n",
            "time taken by parallel LU decomposition ( 500 | 4 ) : 156306 micro seconds\n",
            "time taken by parallel LU decomposition ( 500 | 8 ) : 299785 micro seconds\n",
            "time taken by parallel LU decomposition ( 500 | 12 ) : 566543 micro seconds\n",
            "time taken by parallel LU decomposition ( 500 | 16 ) : 647861 micro seconds\n",
            "time taken by parallel LU decomposition ( 500 | 20 ) : 861430 micro seconds\n",
            "time taken by parallel LU decomposition ( 500 | 32 ) : 1161389 micro seconds\n",
            "\n",
            " PTHREAD EXECUTIONS \n",
            "time taken by parallel LU decomposition ( 500 | 2 ) : 294981 micro seconds\n",
            "time taken by parallel LU decomposition ( 500 | 4 ) : 233804 micro seconds\n",
            "time taken by parallel LU decomposition ( 500 | 8 ) : 354548 micro seconds\n",
            "time taken by parallel LU decomposition ( 500 | 12 ) : 453247 micro seconds\n",
            "time taken by parallel LU decomposition ( 500 | 16 ) : 553198 micro seconds\n",
            "time taken by parallel LU decomposition ( 500 | 20 ) : 647243 micro seconds\n",
            "time taken by parallel LU decomposition ( 500 | 32 ) : 951270 micro seconds\n"
          ]
        }
      ],
      "source": [
        "%%script bash\n",
        "printf \"\\n SEQUENTIAL EXECUTION \\n\"\n",
        "./sequential 500\n",
        "printf \"\\n OPENMP EXECUTIONS \\n\"\n",
        "./openMP 500 2\n",
        "./openMP 500 4\n",
        "./openMP 500 8\n",
        "./openMP 500 12\n",
        "./openMP 500 16\n",
        "./openMP 500 20\n",
        "./openMP 500 32\n",
        "printf \"\\n PTHREAD EXECUTIONS \\n\"\n",
        "./pthread 500 2\n",
        "./pthread 500 4\n",
        "./pthread 500 8\n",
        "./pthread 500 12\n",
        "./pthread 500 16\n",
        "./pthread 500 20\n",
        "./pthread 500 32"
      ]
    },
    {
      "cell_type": "code",
      "execution_count": null,
      "metadata": {
        "id": "PQdjalerLRFp",
        "outputId": "955ec127-42df-47df-bd66-3ae86dd569b3"
      },
      "outputs": [
        {
          "name": "stdout",
          "output_type": "stream",
          "text": [
            "No. of Threads:  [0.0, 2.0, 4.0, 8.0, 12.0, 16.0, 20.0, 32.0]\n",
            "Time taken by OpenMP:  [209532.0, 153695.0, 156306.0, 299785.0, 566543.0, 647861.0, 861430.0, 1161389.0]\n",
            "No. of Threads:  [2.0, 4.0, 8.0, 12.0, 16.0, 20.0, 32.0]\n",
            "Time taken by Pthread:  [294981.0, 233804.0, 354548.0, 453247.0, 553198.0, 647243.0, 951270.0]\n"
          ]
        },
        {
          "data": {
            "image/png": "[encoded data removed]",
            "text/plain": [
              "<Figure size 1440x720 with 1 Axes>"
            ]
          },
          "metadata": {
            "needs_background": "light"
          },
          "output_type": "display_data"
        }
      ],
      "source": [
        "plot_graph()"
      ]
    },
    {
      "cell_type": "code",
      "execution_count": null,
      "metadata": {
        "id": "UPN4yaIJLRFq"
      },
      "outputs": [],
      "source": [
        ""
      ]
    },
    {
      "cell_type": "code",
      "execution_count": null,
      "metadata": {
        "id": "Ne0yooSPLRFq"
      },
      "outputs": [],
      "source": [
        ""
      ]
    },
    {
      "cell_type": "code",
      "execution_count": null,
      "metadata": {
        "id": "QNgdRHbuLRFq"
      },
      "outputs": [],
      "source": [
        "%%script bash\n",
        "rm openMP_times.txt\n",
        "rm pthread_times.txt"
      ]
    },
    {
      "cell_type": "code",
      "execution_count": null,
      "metadata": {
        "id": "bdXTyDvtLRFq"
      },
      "outputs": [],
      "source": [
        ""
      ]
    },
    {
      "cell_type": "code",
      "execution_count": null,
      "metadata": {
        "id": "sss1iUlzLRFq"
      },
      "outputs": [],
      "source": [
        ""
      ]
    },
    {
      "cell_type": "code",
      "execution_count": null,
      "metadata": {
        "id": "cRSJF8LALRFr",
        "outputId": "66eba843-ce96-46dd-acec-c9512983eb6a"
      },
      "outputs": [
        {
          "name": "stdout",
          "output_type": "stream",
          "text": [
            "\n",
            " SEQUENTIAL EXECUTION \n",
            "time taken by Sequential LU decomposition: 1962122 micro seconds\n",
            "Residue: 0.000000000000049095\n",
            "\n",
            " OPENMP EXECUTIONS \n",
            "time taken by parallel LU decomposition ( 1000 | 2 ) : 1438904 micro seconds\n",
            "time taken by parallel LU decomposition ( 1000 | 4 ) : 889450 micro seconds\n",
            "time taken by parallel LU decomposition ( 1000 | 8 ) : 1057391 micro seconds\n",
            "time taken by parallel LU decomposition ( 1000 | 12 ) : 1570818 micro seconds\n",
            "time taken by parallel LU decomposition ( 1000 | 16 ) : 1987263 micro seconds\n",
            "time taken by parallel LU decomposition ( 1000 | 20 ) : 2046722 micro seconds\n",
            "time taken by parallel LU decomposition ( 1000 | 32 ) : 3394466 micro seconds\n",
            "\n",
            " PTHREAD EXECUTIONS \n",
            "time taken by parallel LU decomposition ( 1000 | 2 ) : 2126634 micro seconds\n",
            "time taken by parallel LU decomposition ( 1000 | 4 ) : 1573370 micro seconds\n",
            "time taken by parallel LU decomposition ( 1000 | 8 ) : 1637587 micro seconds\n",
            "time taken by parallel LU decomposition ( 1000 | 12 ) : 2192478 micro seconds\n",
            "time taken by parallel LU decomposition ( 1000 | 16 ) : 2504750 micro seconds\n",
            "time taken by parallel LU decomposition ( 1000 | 20 ) : 2814827 micro seconds\n",
            "time taken by parallel LU decomposition ( 1000 | 32 ) : 2937819 micro seconds\n"
          ]
        }
      ],
      "source": [
        "%%script bash\n",
        "printf \"\\n SEQUENTIAL EXECUTION \\n\"\n",
        "./sequential 1000\n",
        "printf \"\\n OPENMP EXECUTIONS \\n\"\n",
        "./openMP 1000 2\n",
        "./openMP 1000 4\n",
        "./openMP 1000 8\n",
        "./openMP 1000 12\n",
        "./openMP 1000 16\n",
        "./openMP 1000 20\n",
        "./openMP 1000 32\n",
        "printf \"\\n PTHREAD EXECUTIONS \\n\"\n",
        "./pthread 1000 2\n",
        "./pthread 1000 4\n",
        "./pthread 1000 8\n",
        "./pthread 1000 12\n",
        "./pthread 1000 16\n",
        "./pthread 1000 20\n",
        "./pthread 1000 32"
      ]
    },
    {
      "cell_type": "code",
      "execution_count": null,
      "metadata": {
        "id": "M0tMl9mALRFr",
        "outputId": "9a8e1ee5-3dee-46f9-af65-42e4c4acc837"
      },
      "outputs": [
        {
          "name": "stdout",
          "output_type": "stream",
          "text": [
            "No. of Threads:  [0.0, 2.0, 4.0, 8.0, 12.0, 16.0, 20.0, 32.0]\n",
            "Time taken by OpenMP:  [1962122.0, 1438904.0, 889450.0, 1057391.0, 1570818.0, 1987263.0, 2046722.0, 3394466.0]\n",
            "No. of Threads:  [2.0, 4.0, 8.0, 12.0, 16.0, 20.0, 32.0]\n",
            "Time taken by Pthread:  [2126634.0, 1573370.0, 1637587.0, 2192478.0, 2504750.0, 2814827.0, 2937819.0]\n"
          ]
        },
        {
          "data": {
            "image/png": "[encoded data removed]",
            "text/plain": [
              "<Figure size 1440x720 with 1 Axes>"
            ]
          },
          "metadata": {
            "needs_background": "light"
          },
          "output_type": "display_data"
        }
      ],
      "source": [
        "plot_graph()"
      ]
    },
    {
      "cell_type": "code",
      "execution_count": null,
      "metadata": {
        "id": "rmOuptjdLRFr"
      },
      "outputs": [],
      "source": [
        ""
      ]
    },
    {
      "cell_type": "code",
      "execution_count": null,
      "metadata": {
        "id": "aOobJqukLRFr"
      },
      "outputs": [],
      "source": [
        ""
      ]
    },
    {
      "cell_type": "code",
      "execution_count": null,
      "metadata": {
        "id": "oVitXvJlLRFr"
      },
      "outputs": [],
      "source": [
        "%%script bash\n",
        "rm openMP_times.txt\n",
        "rm pthread_times.txt"
      ]
    },
    {
      "cell_type": "code",
      "execution_count": null,
      "metadata": {
        "id": "2DzjL5fcLRFs"
      },
      "outputs": [],
      "source": [
        ""
      ]
    },
    {
      "cell_type": "code",
      "execution_count": null,
      "metadata": {
        "id": "pmu35HO1LRFs"
      },
      "outputs": [],
      "source": [
        ""
      ]
    },
    {
      "cell_type": "code",
      "execution_count": null,
      "metadata": {
        "id": "H2G1u5LILRFs"
      },
      "outputs": [],
      "source": [
        ""
      ]
    },
    {
      "cell_type": "code",
      "execution_count": null,
      "metadata": {
        "id": "edKFo4d-LRFs"
      },
      "outputs": [],
      "source": [
        ""
      ]
    },
    {
      "cell_type": "code",
      "execution_count": null,
      "metadata": {
        "id": "WvVKN-vQLRFs",
        "outputId": "07e3ecd1-d7ff-415b-a473-3185c906cd81"
      },
      "outputs": [
        {
          "name": "stdout",
          "output_type": "stream",
          "text": [
            "\n",
            " SEQUENTIAL EXECUTION \n",
            "time taken by Sequential LU decomposition: 15990630 micro seconds\n",
            "Residue: 0.000000000000172378\n",
            "\n",
            " OPENMP EXECUTIONS \n",
            "time taken by parallel LU decomposition ( 2000 | 2 ) : 7529913 micro seconds\n",
            "time taken by parallel LU decomposition ( 2000 | 4 ) : 5749451 micro seconds\n",
            "time taken by parallel LU decomposition ( 2000 | 8 ) : 5023113 micro seconds\n",
            "time taken by parallel LU decomposition ( 2000 | 12 ) : 6873729 micro seconds\n",
            "time taken by parallel LU decomposition ( 2000 | 16 ) : 6950889 micro seconds\n",
            "time taken by parallel LU decomposition ( 2000 | 20 ) : 7247613 micro seconds\n",
            "time taken by parallel LU decomposition ( 2000 | 32 ) : 8590561 micro seconds\n",
            "\n",
            " PTHREAD EXECUTIONS \n",
            "time taken by parallel LU decomposition ( 2000 | 2 ) : 9356428 micro seconds\n",
            "time taken by parallel LU decomposition ( 2000 | 4 ) : 6903572 micro seconds\n",
            "time taken by parallel LU decomposition ( 2000 | 8 ) : 7392505 micro seconds\n",
            "time taken by parallel LU decomposition ( 2000 | 12 ) : 8109796 micro seconds\n",
            "time taken by parallel LU decomposition ( 2000 | 16 ) : 8802177 micro seconds\n",
            "time taken by parallel LU decomposition ( 2000 | 20 ) : 9240187 micro seconds\n",
            "time taken by parallel LU decomposition ( 2000 | 32 ) : 9291388 micro seconds\n"
          ]
        }
      ],
      "source": [
        "%%script bash\n",
        "printf \"\\n SEQUENTIAL EXECUTION \\n\"\n",
        "./sequential 2000\n",
        "printf \"\\n OPENMP EXECUTIONS \\n\"\n",
        "./openMP 2000 2\n",
        "./openMP 2000 4\n",
        "./openMP 2000 8\n",
        "./openMP 2000 12\n",
        "./openMP 2000 16\n",
        "./openMP 2000 20\n",
        "./openMP 2000 32\n",
        "printf \"\\n PTHREAD EXECUTIONS \\n\"\n",
        "./pthread 2000 2\n",
        "./pthread 2000 4\n",
        "./pthread 2000 8\n",
        "./pthread 2000 12\n",
        "./pthread 2000 16\n",
        "./pthread 2000 20\n",
        "./pthread 2000 32"
      ]
    },
    {
      "cell_type": "code",
      "execution_count": null,
      "metadata": {
        "id": "ijLwlySxLRFs",
        "outputId": "17532752-6009-482a-b4a8-11c50d414fd6"
      },
      "outputs": [
        {
          "name": "stdout",
          "output_type": "stream",
          "text": [
            "No. of Threads:  [0.0, 2.0, 4.0, 8.0, 12.0, 16.0, 20.0, 32.0]\n",
            "Time taken by OpenMP:  [15990630.0, 7529913.0, 5749451.0, 5023113.0, 6873729.0, 6950889.0, 7247613.0, 8590561.0]\n",
            "No. of Threads:  [2.0, 4.0, 8.0, 12.0, 16.0, 20.0, 32.0]\n",
            "Time taken by Pthread:  [9356428.0, 6903572.0, 7392505.0, 8109796.0, 8802177.0, 9240187.0, 9291388.0]\n"
          ]
        },
        {
          "data": {
            "image/png": "[encoded data removed]",
            "text/plain": [
              "<Figure size 1440x720 with 1 Axes>"
            ]
          },
          "metadata": {
            "needs_background": "light"
          },
          "output_type": "display_data"
        }
      ],
      "source": [
        "plot_graph()"
      ]
    },
    {
      "cell_type": "code",
      "execution_count": null,
      "metadata": {
        "id": "HC2ldIpRLRFt"
      },
      "outputs": [],
      "source": [
        ""
      ]
    },
    {
      "cell_type": "code",
      "execution_count": null,
      "metadata": {
        "id": "idq6opL9LRFt"
      },
      "outputs": [],
      "source": [
        ""
      ]
    },
    {
      "cell_type": "code",
      "execution_count": null,
      "metadata": {
        "id": "jav12FjoLRFt"
      },
      "outputs": [],
      "source": [
        "%%script bash\n",
        "rm openMP_times.txt\n",
        "rm pthread_times.txt"
      ]
    },
    {
      "cell_type": "code",
      "execution_count": null,
      "metadata": {
        "id": "F9ggU-5pLRFt"
      },
      "outputs": [],
      "source": [
        ""
      ]
    },
    {
      "cell_type": "code",
      "source": [
        "from google.colab import drive\n",
        "drive.mount('/content/drive')"
      ],
      "metadata": {
        "colab": {
          "base_uri": "https://localhost:8080/"
        },
        "id": "uRjRfjroPsFp",
        "outputId": "426a30e0-7edc-4bf6-95ff-5557b0ef2188"
      },
      "execution_count": null,
      "outputs": [
        {
          "output_type": "stream",
          "name": "stdout",
          "text": [
            "Mounted at /content/drive\n"
          ]
        }
      ]
    },
    {
      "cell_type": "code",
      "source": [
        "%%shell\n",
        "jupyter nbconvert --to html ///content/Parallel_Programming.ipynb"
      ],
      "metadata": {
        "colab": {
          "base_uri": "https://localhost:8080/"
        },
        "id": "-ROPdCjRPuuc",
        "outputId": "d79836a3-5dd0-4dec-acf3-41241af35031"
      },
      "execution_count": null,
      "outputs": [
        {
          "output_type": "stream",
          "name": "stdout",
          "text": [
            "[NbConvertApp] Converting notebook ///content/Parallel_Programming.ipynb to html\n",
            "[NbConvertApp] Writing 546149 bytes to ///content/Parallel_Programming.html\n"
          ]
        },
        {
          "output_type": "execute_result",
          "data": {
            "text/plain": [
              ""
            ]
          },
          "metadata": {},
          "execution_count": 8
        }
      ]
    },
    {
      "cell_type": "code",
      "source": [
        ""
      ],
      "metadata": {
        "id": "VqxzIsZdRDTl"
      },
      "execution_count": null,
      "outputs": []
    }
  ],
  "metadata": {
    "colab": {
      "collapsed_sections": [],
      "name": "Parallel_Programming.ipynb",
      "provenance": []
    },
    "kernelspec": {
      "display_name": "Python 3 (ipykernel)",
      "language": "python",
      "name": "python3"
    },
    "language_info": {
      "codemirror_mode": {
        "name": "ipython",
        "version": 3
      },
      "file_extension": ".py",
      "mimetype": "text/x-python",
      "name": "python",
      "nbconvert_exporter": "python",
      "pygments_lexer": "ipython3",
      "version": "3.8.10"
    }
  },
  "nbformat": 4,
  "nbformat_minor": 0
}